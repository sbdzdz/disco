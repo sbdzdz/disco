{
 "cells": [
  {
   "attachments": {},
   "cell_type": "markdown",
   "metadata": {},
   "source": [
    "### Sampling analogy tasks\n",
    "\n",
    "#### Introduction\n",
    "\n",
    "The `InfiniteDSpritesAnalogies` dataset is an infinite stream of image prompts like this one:\n",
    "\n",
    "![Analogy Task](img/analogy.png \"Title\")\n",
    "\n",
    "The task is to extract the transformation that maps the reference source (top left) to reference target (top right) and apply it to the query source (bottom left) to get query target (bottom right). At test time, the query target is masked out. Note that the reference source and the query source differ only with respect to shape.\n",
    "\n",
    "#### Quick start\n",
    "The easiest way to get started is to create an instance of `InfiniteDSpritesAnalogies`. It is a subclass of PyTorch `IterableDataset`, so it is possible to iterate over it using a `Dataloader`."
   ]
  },
  {
   "cell_type": "code",
   "execution_count": null,
   "metadata": {},
   "outputs": [],
   "source": [
    "import numpy as np\n",
    "\n",
    "from torch.utils.data import DataLoader\n",
    "\n",
    "from disco.data import InfiniteDSpritesAnalogies\n",
    "from disco.visualization import draw_batch\n",
    "\n",
    "dataset = InfiniteDSpritesAnalogies()\n",
    "dataloader = DataLoader(dataset, batch_size=4)\n",
    "batch = next(iter(dataloader))\n",
    "draw_batch(batch, show=True)"
   ]
  },
  {
   "attachments": {},
   "cell_type": "markdown",
   "metadata": {},
   "source": [
    "##### Easier variants\n",
    "To produce an easier variant of the task, you can use the constructor arguments to control the range from which each latent is sampled:"
   ]
  },
  {
   "cell_type": "code",
   "execution_count": null,
   "metadata": {},
   "outputs": [],
   "source": [
    "# only change the orientation\n",
    "dataset = InfiniteDSpritesAnalogies(\n",
    "    scale_range = [1],\n",
    "    orientation_range = np.linspace(0, 2 * np.pi, 36),\n",
    "    position_x_range = [0.5],\n",
    "    position_y_range = [0.5],\n",
    ")\n",
    "dataloader = DataLoader(dataset, batch_size=4)\n",
    "batch = next(iter(dataloader))\n",
    "draw_batch(batch, show=True)"
   ]
  },
  {
   "attachments": {},
   "cell_type": "markdown",
   "metadata": {},
   "source": [
    "To make the task even simpler, you can fix the reference and query shapes. Specific shapes will be supported in the future, but for now the syntax is a bit awkward. "
   ]
  },
  {
   "cell_type": "code",
   "execution_count": null,
   "metadata": {},
   "outputs": [],
   "source": [
    "dataset.reference_shape = dataset.generate_shape()\n",
    "dataset.query_shape = dataset.generate_shape()\n",
    "\n",
    "dataloader = DataLoader(dataset, batch_size=4)\n",
    "batch = next(iter(dataloader))\n",
    "draw_batch(batch, show=True)"
   ]
  },
  {
   "attachments": {},
   "cell_type": "markdown",
   "metadata": {},
   "source": [
    "In order to ensure reproducibility, you can seed the NumPy random number generator."
   ]
  },
  {
   "cell_type": "code",
   "execution_count": null,
   "metadata": {},
   "outputs": [],
   "source": [
    "np.random.seed(42)\n",
    "\n",
    "dataloader = DataLoader(dataset, batch_size=4)\n",
    "batch = next(iter(dataloader))\n",
    "draw_batch(batch, show=True)"
   ]
  }
 ],
 "metadata": {
  "kernelspec": {
   "display_name": "venv",
   "language": "python",
   "name": "python3"
  },
  "language_info": {
   "codemirror_mode": {
    "name": "ipython",
    "version": 3
   },
   "file_extension": ".py",
   "mimetype": "text/x-python",
   "name": "python",
   "nbconvert_exporter": "python",
   "pygments_lexer": "ipython3",
   "version": "3.10.5"
  },
  "vscode": {
   "interpreter": {
    "hash": "54d4496e6e5259cb311381f33bb97274e5d99c445dc08682f685e4eb76f2643d"
   }
  }
 },
 "nbformat": 4,
 "nbformat_minor": 2
}
