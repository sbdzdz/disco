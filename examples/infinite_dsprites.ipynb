{
 "cells": [
  {
   "attachments": {},
   "cell_type": "markdown",
   "metadata": {},
   "source": [
    "### Infinite dSprites\n",
    "\n",
    "#### Introduction\n",
    "The 'InfiniteDSprites` dataset is an infinite streams of 2D sprites undergoing translation, rotation, and scaling. It is an extension of [dSprites](https://github.com/deepmind/dsprites-dataset).\n",
    "\n",
    "#### Quick start\n",
    "To start, create an instance of `InfiniteDSprites`. It is a subclass of PyTorch `IterableDataset`, so it is possible to iterate over it using a `DataLoader`."
   ]
  },
  {
   "cell_type": "code",
   "execution_count": null,
   "metadata": {},
   "outputs": [],
   "source": [
    "from torch.utils.data import DataLoader\n",
    "\n",
    "from disco.data import InfiniteDSprites\n",
    "from disco.visualization import draw_batch\n",
    "\n",
    "dataset = InfiniteDSprites()\n",
    "dataloader = DataLoader(dataset, batch_size=16)\n",
    "batch_img, latents = next(iter(dataloader))\n",
    "draw_batch(batch_img, show=True)\n",
    "print(latents.position_y)"
   ]
  },
  {
   "attachments": {},
   "cell_type": "markdown",
   "metadata": {},
   "source": [
    "#### Fine-grained control\n",
    "The dataset has many dials that you can turn to adjust the distribution of the data. In particular, you can control the image size and the range of variability of the generative factors (by default, they are identical to the original dSprites):"
   ]
  },
  {
   "cell_type": "code",
   "execution_count": null,
   "metadata": {},
   "outputs": [],
   "source": [
    "import numpy as np\n",
    "\n",
    "dataset = InfiniteDSprites(\n",
    "    img_size=128,\n",
    "    color_range=[\"red\", \"green\", \"blue\"],\n",
    "    scale_range= np.linspace(0, 1, 100),\n",
    "    orientation_range= np.linspace(0, 2 * np.pi, 100),\n",
    "    position_x_range= np.linspace(0, 1, 100),\n",
    "    position_y_range= np.linspace(0, 1, 100),\n",
    ")\n",
    "dataloader = DataLoader(dataset, batch_size=16)\n",
    "batch_img, _ = next(iter(dataloader))\n",
    "draw_batch(batch_img, show=True)"
   ]
  },
  {
   "attachments": {},
   "cell_type": "markdown",
   "metadata": {},
   "source": [
    "By default, the resulting images will be an exhaustive product of these ranges in the order of (shape, color, scale, orientation, position_x, position_y). Think about it as an odometer, with the rightmost element advancing at every iteration.\n",
    "\n",
    "\n",
    "> **NOTE**: the order in the `latents` namedtuple is (color, shape, scale, orientation, position_x, position_y). This is to maintain compatibility with dSprites. In any case, it is advisable to access the specific latent factors by name.\n",
    "\n",
    "#### Subclasses\n",
    "Use the `RandomDSprites` subclass to sample random values of each latent from an appropriate range at each step:"
   ]
  },
  {
   "cell_type": "code",
   "execution_count": null,
   "metadata": {},
   "outputs": [],
   "source": [
    "from disco.data import RandomDSprites\n",
    "\n",
    "dataset = RandomDSprites(img_size=128, color_range=[\"red\", \"green\", \"blue\"])\n",
    "dataloader = DataLoader(dataset, batch_size=16)\n",
    "batch_img, latents = next(iter(dataloader))\n",
    "draw_batch(batch_img, show=True)\n",
    "print(latents.position_y)\n",
    "print(latents.color)"
   ]
  }
 ],
 "metadata": {
  "kernelspec": {
   "display_name": "venv",
   "language": "python",
   "name": "python3"
  },
  "language_info": {
   "codemirror_mode": {
    "name": "ipython",
    "version": 3
   },
   "file_extension": ".py",
   "mimetype": "text/x-python",
   "name": "python",
   "nbconvert_exporter": "python",
   "pygments_lexer": "ipython3",
   "version": "3.10.5"
  },
  "vscode": {
   "interpreter": {
    "hash": "54d4496e6e5259cb311381f33bb97274e5d99c445dc08682f685e4eb76f2643d"
   }
  }
 },
 "nbformat": 4,
 "nbformat_minor": 2
}
